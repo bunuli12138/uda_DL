{
 "cells": [
  {
   "cell_type": "markdown",
   "metadata": {},
   "source": [
    "## mobilenet_v2"
   ]
  },
  {
   "cell_type": "markdown",
   "metadata": {},
   "source": [
    "### import packages"
   ]
  },
  {
   "cell_type": "code",
   "execution_count": 7,
   "metadata": {},
   "outputs": [],
   "source": [
    "import torch\n",
    "from torch import nn\n",
    "import torch.nn.functional as F"
   ]
  },
  {
   "cell_type": "markdown",
   "metadata": {},
   "source": [
    "### general 'Conv' layers(head)"
   ]
  },
  {
   "cell_type": "code",
   "execution_count": 8,
   "metadata": {},
   "outputs": [],
   "source": [
    "class Head(nn.Module):\n",
    "    def __init__(self,inp_c,out_c):\n",
    "        super(Head,self).__init__()\n",
    "        self.conv2d=nn.Conv2d(inp_c,out_c,3,2,padding=1,bias=False)\n",
    "        self.bn=nn.BatchNorm2d(out_c)\n",
    "        self.relu6=nn.ReLU6(inplace=True)\n",
    "    \n",
    "    def forward(self,x):\n",
    "        x=self.conv2d(x)\n",
    "        x=self.bn(x)\n",
    "        out=self.relu6(x)\n",
    "        return out"
   ]
  },
  {
   "cell_type": "markdown",
   "metadata": {},
   "source": [
    "### residual architecture(core)"
   ]
  },
  {
   "cell_type": "code",
   "execution_count": 9,
   "metadata": {},
   "outputs": [],
   "source": [
    "class InvertResidual(nn.Module):\n",
    "    def __init__(self,inp_c,out_c,stride,expand):\n",
    "        super(InvertResidual,self).__init__()\n",
    "        self.stride=stride\n",
    "        out_ce=out_c*expand\n",
    "        self.conv1_1=nn.Conv2d(inp_c,out_ce,1,bias=False)\n",
    "        self.conv1_2=nn.Conv2d(out_ce,out_c,1,bias=False)\n",
    "        self.bn1=nn.BatchNorm2d(out_ce)\n",
    "        self.bn2=nn.BatchNorm2d(out_c)\n",
    "        self.deepwide=nn.Conv2d(out_ce,out_ce,3,stride,padding=1,groups=out_c)\n",
    "        self.relu6=nn.ReLU6(inplace=True)\n",
    "        self.shortcut = nn.Sequential()\n",
    "        if stride == 1 and inp_c != out_c:\n",
    "            self.shortcut = nn.Sequential(\n",
    "                nn.Conv2d(inp_c,out_c,1,bias=False),\n",
    "                nn.BatchNorm2d(out_c))\n",
    "            \n",
    "        \n",
    "    def forward(self,x):\n",
    "        ori_x=x\n",
    "        x=self.conv1_1(x)\n",
    "        x=self.bn1(x)\n",
    "        x=self.relu6(x)\n",
    "        x=self.deepwide(x)\n",
    "        x=self.bn1(x)\n",
    "        x=self.relu6(x)\n",
    "        x=self.conv1_2(x)\n",
    "        y=self.bn2(x)\n",
    "        out=y + self.shortcut(ori_x) if self.stride==1 else y\n",
    "        return out"
   ]
  },
  {
   "cell_type": "markdown",
   "metadata": {},
   "source": [
    "### whole net(ensemble)"
   ]
  },
  {
   "cell_type": "code",
   "execution_count": 12,
   "metadata": {},
   "outputs": [],
   "source": [
    "class MobileNetv2(nn.Module):\n",
    "    def __init__(self,width_mult=1,num_classes=100):\n",
    "        super(MobileNetv2,self).__init__()\n",
    "        block = InvertResidual\n",
    "        input_channel = 32\n",
    "        interverted_residual_setting = [\n",
    "            # t, c, n, s\n",
    "            [1, 16, 1, 1],\n",
    "            [6, 24, 2, 2],\n",
    "            [6, 32, 3, 2]\n",
    "#             [6, 64, 4, 2],\n",
    "#             [6, 96, 3, 1],\n",
    "#             [6, 160, 3, 2],\n",
    "#             [6, 320, 1, 1]\n",
    "        ]\n",
    "        input_channel=int(input_channel * width_mult)\n",
    "        head_layer=Head(3,input_channel)\n",
    "        self.layers=[head_layer]\n",
    "        for t, c, n, s in interverted_residual_setting:\n",
    "            stride = s\n",
    "            output_channel = int(c * width_mult)\n",
    "            for i in range(n):\n",
    "                if i==0:\n",
    "                    self.layers.append(block(input_channel,output_channel,stride,t))\n",
    "                else:\n",
    "                    self.layers.append(block(input_channel,output_channel,1,t))\n",
    "                input_channel=output_channel\n",
    "                \n",
    "        self.layers = nn.Sequential(*self.layers)\n",
    " \n",
    "        self.conv_end = nn.Conv2d(32,1280, kernel_size=1, stride=1,padding=0, bias=False)\n",
    "        self.bn_end = nn.BatchNorm2d(1280)\n",
    "        self.relu=nn.ReLU6(inplace=True)\n",
    "        self.AdaptiveAvgPool = nn.AdaptiveAvgPool2d((1, 1))\n",
    "        self.linear = nn.Linear(1280, num_classes)\n",
    "    def forward(self,x):\n",
    "        x=self.layers(x)\n",
    "        x=self.conv_end(x)\n",
    "        x=self.bn_end(x)\n",
    "        x=self.relu(x)\n",
    "        x=self.AdaptiveAvgPool(x)\n",
    "        x= x.view(x.size(0), -1)\n",
    "        out = self.linear(x)\n",
    "        return out"
   ]
  },
  {
   "cell_type": "markdown",
   "metadata": {},
   "source": [
    "### test size"
   ]
  },
  {
   "cell_type": "code",
   "execution_count": 13,
   "metadata": {},
   "outputs": [
    {
     "name": "stdout",
     "output_type": "stream",
     "text": [
      "torch.Size([1, 3, 224, 224])\n",
      "torch.Size([1, 100])\n"
     ]
    }
   ],
   "source": [
    "test_input=torch.rand(1, 3, 224, 224)\n",
    "print(test_input.size())\n",
    "model= MobileNetv2()\n",
    "out=model(test_input )\n",
    "print(out.size())"
   ]
  },
  {
   "cell_type": "markdown",
   "metadata": {},
   "source": [
    "## VGG16"
   ]
  },
  {
   "cell_type": "code",
   "execution_count": 40,
   "metadata": {},
   "outputs": [],
   "source": [
    "import torch\n",
    "import torch.nn as nn\n",
    "from torch.autograd import Variable\n",
    " \n",
    "# cfg = {'vgg16':[64, 64, 'M', 128, 128, 'M', 256, 256, 256, 'M', 512, 512, 512, 'M', 512, 512, 512, 'M']}\n",
    "cfg = {'vgg16':[8, 8, 'M', 16, 16, 'M', 32, 32, 32, 'M', 64, 64, 64, 'M']}"
   ]
  },
  {
   "cell_type": "code",
   "execution_count": 44,
   "metadata": {},
   "outputs": [],
   "source": [
    "class VGG16(nn.Module):\n",
    "    def __init__(self):\n",
    "        super(VGG16,self).__init__()\n",
    "        self.features = self._make_layers(cfg['vgg16'])\n",
    "#         print(self.features)\n",
    "        self.classifier = nn.Linear(14 * 14 * 64, 10) #主要是实现CIFAR10，不同的任务全连接的结构不同\n",
    " \n",
    "    def forward(self, x):\n",
    "        x = self.features(x)\n",
    "        x = x.view(x.size(0),-1)\n",
    "        x = self.classifier(x)\n",
    "        return x\n",
    " \n",
    "    def _make_layers(self,cfg):\n",
    "        layers = []\n",
    "        in_channels = 3\n",
    "        for x in cfg:  #遍历list\n",
    "            if x == 'M':\n",
    "                layers += [nn.MaxPool2d(2,2)]\n",
    "            else:\n",
    "                layers += [nn.Conv2d(in_channels,x,3,1,1),\n",
    "                           nn.BatchNorm2d(x),\n",
    "                           nn.ReLU(inplace=True)] ##inplace为True，将会改变输入的数据 ，\n",
    "                                            # 否则不会改变原输入，只会产生新的输出\n",
    "                in_channels = x\n",
    "        #print(layers)\n",
    "        return nn.Sequential(*layers)"
   ]
  },
  {
   "cell_type": "code",
   "execution_count": 45,
   "metadata": {
    "scrolled": true
   },
   "outputs": [
    {
     "data": {
      "text/plain": [
       "VGG16(\n",
       "  (features): Sequential(\n",
       "    (0): Conv2d(3, 8, kernel_size=(3, 3), stride=(1, 1), padding=(1, 1))\n",
       "    (1): BatchNorm2d(8, eps=1e-05, momentum=0.1, affine=True, track_running_stats=True)\n",
       "    (2): ReLU(inplace=True)\n",
       "    (3): Conv2d(8, 8, kernel_size=(3, 3), stride=(1, 1), padding=(1, 1))\n",
       "    (4): BatchNorm2d(8, eps=1e-05, momentum=0.1, affine=True, track_running_stats=True)\n",
       "    (5): ReLU(inplace=True)\n",
       "    (6): MaxPool2d(kernel_size=2, stride=2, padding=0, dilation=1, ceil_mode=False)\n",
       "    (7): Conv2d(8, 16, kernel_size=(3, 3), stride=(1, 1), padding=(1, 1))\n",
       "    (8): BatchNorm2d(16, eps=1e-05, momentum=0.1, affine=True, track_running_stats=True)\n",
       "    (9): ReLU(inplace=True)\n",
       "    (10): Conv2d(16, 16, kernel_size=(3, 3), stride=(1, 1), padding=(1, 1))\n",
       "    (11): BatchNorm2d(16, eps=1e-05, momentum=0.1, affine=True, track_running_stats=True)\n",
       "    (12): ReLU(inplace=True)\n",
       "    (13): MaxPool2d(kernel_size=2, stride=2, padding=0, dilation=1, ceil_mode=False)\n",
       "    (14): Conv2d(16, 32, kernel_size=(3, 3), stride=(1, 1), padding=(1, 1))\n",
       "    (15): BatchNorm2d(32, eps=1e-05, momentum=0.1, affine=True, track_running_stats=True)\n",
       "    (16): ReLU(inplace=True)\n",
       "    (17): Conv2d(32, 32, kernel_size=(3, 3), stride=(1, 1), padding=(1, 1))\n",
       "    (18): BatchNorm2d(32, eps=1e-05, momentum=0.1, affine=True, track_running_stats=True)\n",
       "    (19): ReLU(inplace=True)\n",
       "    (20): Conv2d(32, 32, kernel_size=(3, 3), stride=(1, 1), padding=(1, 1))\n",
       "    (21): BatchNorm2d(32, eps=1e-05, momentum=0.1, affine=True, track_running_stats=True)\n",
       "    (22): ReLU(inplace=True)\n",
       "    (23): MaxPool2d(kernel_size=2, stride=2, padding=0, dilation=1, ceil_mode=False)\n",
       "    (24): Conv2d(32, 64, kernel_size=(3, 3), stride=(1, 1), padding=(1, 1))\n",
       "    (25): BatchNorm2d(64, eps=1e-05, momentum=0.1, affine=True, track_running_stats=True)\n",
       "    (26): ReLU(inplace=True)\n",
       "    (27): Conv2d(64, 64, kernel_size=(3, 3), stride=(1, 1), padding=(1, 1))\n",
       "    (28): BatchNorm2d(64, eps=1e-05, momentum=0.1, affine=True, track_running_stats=True)\n",
       "    (29): ReLU(inplace=True)\n",
       "    (30): Conv2d(64, 64, kernel_size=(3, 3), stride=(1, 1), padding=(1, 1))\n",
       "    (31): BatchNorm2d(64, eps=1e-05, momentum=0.1, affine=True, track_running_stats=True)\n",
       "    (32): ReLU(inplace=True)\n",
       "    (33): MaxPool2d(kernel_size=2, stride=2, padding=0, dilation=1, ceil_mode=False)\n",
       "  )\n",
       "  (classifier): Linear(in_features=12544, out_features=10, bias=True)\n",
       ")"
      ]
     },
     "execution_count": 45,
     "metadata": {},
     "output_type": "execute_result"
    }
   ],
   "source": [
    "vgg16 = VGG16()\n",
    "\n",
    "vgg16"
   ]
  },
  {
   "cell_type": "code",
   "execution_count": 46,
   "metadata": {},
   "outputs": [
    {
     "name": "stdout",
     "output_type": "stream",
     "text": [
      "torch.Size([1, 3, 224, 224])\n",
      "torch.Size([1, 10])\n"
     ]
    }
   ],
   "source": [
    "test_input=torch.rand(1, 3, 224, 224)\n",
    "print(test_input.size())\n",
    "model= VGG16()\n",
    "out=model(test_input )\n",
    "print(out.size())"
   ]
  },
  {
   "cell_type": "code",
   "execution_count": 47,
   "metadata": {},
   "outputs": [
    {
     "data": {
      "text/plain": [
       "12544"
      ]
     },
     "execution_count": 47,
     "metadata": {},
     "output_type": "execute_result"
    }
   ],
   "source": [
    "14 * 14 * 64"
   ]
  }
 ],
 "metadata": {
  "kernelspec": {
   "display_name": "Python 3",
   "language": "python",
   "name": "python3"
  },
  "language_info": {
   "codemirror_mode": {
    "name": "ipython",
    "version": 3
   },
   "file_extension": ".py",
   "mimetype": "text/x-python",
   "name": "python",
   "nbconvert_exporter": "python",
   "pygments_lexer": "ipython3",
   "version": "3.6.8"
  },
  "toc": {
   "base_numbering": 1,
   "nav_menu": {},
   "number_sections": true,
   "sideBar": true,
   "skip_h1_title": false,
   "title_cell": "Table of Contents",
   "title_sidebar": "Contents",
   "toc_cell": false,
   "toc_position": {},
   "toc_section_display": true,
   "toc_window_display": true
  }
 },
 "nbformat": 4,
 "nbformat_minor": 2
}
