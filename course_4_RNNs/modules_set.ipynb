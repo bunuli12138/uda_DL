{
 "cells": [
  {
   "cell_type": "markdown",
   "metadata": {},
   "source": [
    "## GRUs"
   ]
  },
  {
   "cell_type": "code",
   "execution_count": 2,
   "metadata": {},
   "outputs": [],
   "source": [
    "import torch\n",
    "\n",
    "from torch import nn"
   ]
  },
  {
   "cell_type": "code",
   "execution_count": 7,
   "metadata": {},
   "outputs": [],
   "source": [
    "rnn = nn.GRU(10, 20, 1)\n",
    "inputs = torch.randn(5, 3, 10)\n",
    "h0 = torch.randn(1, 3, 20)\n",
    "output, hn = rnn(inputs, h0)"
   ]
  },
  {
   "cell_type": "code",
   "execution_count": 10,
   "metadata": {},
   "outputs": [
    {
     "data": {
      "text/plain": [
       "(torch.Size([5, 3, 20]), torch.Size([1, 3, 20]))"
      ]
     },
     "execution_count": 10,
     "metadata": {},
     "output_type": "execute_result"
    }
   ],
   "source": [
    "output.shape, hn.shape"
   ]
  },
  {
   "cell_type": "code",
   "execution_count": 9,
   "metadata": {},
   "outputs": [
    {
     "data": {
      "text/plain": [
       "tensor([[[ 0.0324, -0.3764, -0.0684,  0.1168, -0.1567, -0.5599, -0.0964,\n",
       "          -0.3813, -0.0758, -0.1122, -0.1119,  0.4810,  0.2013, -0.0166,\n",
       "          -0.0518, -0.2446,  0.0095, -0.0612,  0.0972, -0.0243],\n",
       "         [-0.4462,  0.1840, -0.4021, -0.4004,  0.1349,  0.3194, -0.1279,\n",
       "          -0.1748,  0.6533,  0.1529,  0.5715, -0.0943, -0.4533,  0.1661,\n",
       "           0.2207, -0.2316, -0.5063, -0.4761, -0.1588,  0.0016],\n",
       "         [-0.2119, -0.1869,  0.3036, -0.0154, -0.1677, -0.3522,  0.0267,\n",
       "          -0.2271, -0.1476, -0.2677, -0.2320,  0.2730, -0.4689, -0.2665,\n",
       "           0.0715, -0.1110, -0.0815,  0.1248, -0.0733, -0.0168]]],\n",
       "       grad_fn=<StackBackward>)"
      ]
     },
     "execution_count": 9,
     "metadata": {},
     "output_type": "execute_result"
    }
   ],
   "source": [
    "hn"
   ]
  },
  {
   "cell_type": "code",
   "execution_count": 8,
   "metadata": {},
   "outputs": [
    {
     "data": {
      "text/plain": [
       "tensor([[[-0.0985,  0.0766, -0.2341,  0.1131,  0.6459, -0.2122,  0.2327,\n",
       "          -1.0126,  0.2494, -1.0811, -0.8752,  0.8655, -0.4918, -0.3430,\n",
       "          -0.1808, -0.3973,  0.2679, -0.0845,  0.1812,  0.0826],\n",
       "         [-0.3367,  0.3231,  0.1002,  0.4391, -0.8684,  0.4506,  0.0988,\n",
       "           0.0502,  0.0582, -0.2333,  0.7081,  0.2465,  0.0446, -0.5745,\n",
       "          -0.0120,  0.1698,  0.3974,  0.1823,  0.2570, -0.0267],\n",
       "         [ 0.0896, -0.0149,  0.1951,  0.5311, -0.8811,  0.2261,  0.2842,\n",
       "           0.0491, -1.0303, -0.9928, -0.0814,  0.3638, -1.4581, -0.1104,\n",
       "           0.5732,  0.6071, -0.1630,  1.0783,  0.2514, -1.0203]],\n",
       "\n",
       "        [[-0.0525, -0.0549, -0.0258,  0.0042,  0.1702, -0.4449,  0.0798,\n",
       "          -0.8590,  0.1374, -0.4508, -0.5786,  0.6675, -0.2469, -0.0498,\n",
       "           0.0488, -0.4672,  0.2546,  0.0410, -0.0330, -0.1968],\n",
       "         [-0.1710, -0.1527, -0.0683,  0.3358, -0.3808,  0.4260,  0.1167,\n",
       "           0.1796,  0.0278, -0.3434,  0.7213,  0.2097,  0.2169, -0.3282,\n",
       "          -0.0363,  0.1113, -0.0864,  0.1203,  0.1151, -0.0628],\n",
       "         [-0.1320,  0.6694, -0.3722,  0.1224,  0.0405,  0.5122,  0.1228,\n",
       "           0.1051,  0.0815, -0.3042, -0.1637, -0.2469, -1.2385, -0.0457,\n",
       "           0.5349,  0.2181, -0.3430,  0.2727,  0.2430, -0.2919]],\n",
       "\n",
       "        [[-0.0615,  0.4114, -0.1350, -0.4314,  0.2131, -0.1484,  0.0630,\n",
       "          -0.6688,  0.4142,  0.0644, -0.1609,  0.3590, -0.1923, -0.1382,\n",
       "           0.0571, -0.1805, -0.0144, -0.1886, -0.0240, -0.0019],\n",
       "         [-0.4588,  0.2819,  0.1707,  0.1911,  0.0853,  0.5766, -0.0447,\n",
       "           0.0223,  0.4780, -0.0465,  0.4863, -0.1333, -0.0816, -0.2566,\n",
       "           0.1700,  0.0031, -0.3414, -0.1630,  0.2071,  0.0232],\n",
       "         [-0.3344, -0.0658, -0.1564,  0.2572, -0.2301, -0.1074, -0.0291,\n",
       "          -0.0342,  0.0755, -0.2336, -0.4019,  0.1650, -0.9164,  0.0786,\n",
       "           0.4146, -0.1208, -0.0294,  0.3529,  0.1856, -0.2593]],\n",
       "\n",
       "        [[-0.3331, -0.1490, -0.1766,  0.0737,  0.0135, -0.3032, -0.0068,\n",
       "          -0.4737,  0.5381,  0.0762, -0.1308,  0.3919, -0.0231,  0.2166,\n",
       "           0.0713, -0.2910, -0.1623, -0.0776,  0.1496, -0.1089],\n",
       "         [-0.2277, -0.2008,  0.0339,  0.1916,  0.0338,  0.5221, -0.0744,\n",
       "          -0.0194,  0.3884, -0.0363,  0.6042, -0.2230, -0.3437,  0.2502,\n",
       "           0.2407, -0.3531, -0.2594, -0.2458, -0.1524, -0.2722],\n",
       "         [ 0.1254, -0.0475, -0.0814,  0.0440, -0.1920, -0.3705, -0.0563,\n",
       "          -0.1074,  0.0361, -0.1853, -0.4143,  0.0148, -0.7075, -0.0831,\n",
       "           0.0423, -0.1886, -0.0682,  0.1372,  0.1418, -0.1468]],\n",
       "\n",
       "        [[ 0.0324, -0.3764, -0.0684,  0.1168, -0.1567, -0.5599, -0.0964,\n",
       "          -0.3813, -0.0758, -0.1122, -0.1119,  0.4810,  0.2013, -0.0166,\n",
       "          -0.0518, -0.2446,  0.0095, -0.0612,  0.0972, -0.0243],\n",
       "         [-0.4462,  0.1840, -0.4021, -0.4004,  0.1349,  0.3194, -0.1279,\n",
       "          -0.1748,  0.6533,  0.1529,  0.5715, -0.0943, -0.4533,  0.1661,\n",
       "           0.2207, -0.2316, -0.5063, -0.4761, -0.1588,  0.0016],\n",
       "         [-0.2119, -0.1869,  0.3036, -0.0154, -0.1677, -0.3522,  0.0267,\n",
       "          -0.2271, -0.1476, -0.2677, -0.2320,  0.2730, -0.4689, -0.2665,\n",
       "           0.0715, -0.1110, -0.0815,  0.1248, -0.0733, -0.0168]]],\n",
       "       grad_fn=<StackBackward>)"
      ]
     },
     "execution_count": 8,
     "metadata": {},
     "output_type": "execute_result"
    }
   ],
   "source": [
    "output"
   ]
  },
  {
   "cell_type": "code",
   "execution_count": null,
   "metadata": {},
   "outputs": [],
   "source": []
  },
  {
   "cell_type": "markdown",
   "metadata": {},
   "source": [
    "## LSTM cell"
   ]
  },
  {
   "cell_type": "code",
   "execution_count": 11,
   "metadata": {},
   "outputs": [
    {
     "data": {
      "text/plain": [
       "(10, 3)"
      ]
     },
     "execution_count": 11,
     "metadata": {},
     "output_type": "execute_result"
    }
   ],
   "source": [
    "import numpy as np\n",
    "\n",
    "inputs = np.array(np.random.randint(10,110,30)).reshape([10, 3])\n",
    "\n",
    "inputs.shape"
   ]
  },
  {
   "cell_type": "code",
   "execution_count": 13,
   "metadata": {},
   "outputs": [],
   "source": [
    "\"\"\"Pseudo code\"\"\"\n",
    "# def LSTMCELL(prev_ct, prev_ht, inputs):\n",
    "#     combine =prev_ht + inputs\n",
    "#     ft = forget_layer(combine)\n",
    "#     candidate =candidate_layer(combine)\n",
    "#     it =input_Layer(combine)\n",
    "#     ct = prev_ct * ft + candidate * it \n",
    "#     ot = output_layer(combine)\n",
    "#     ht = ot* tanh(Ct)\n",
    "#     return ht, ct\n",
    "\n",
    "\n",
    "# ct = [0, 0, 0]\n",
    "# ht = [0, 0, 0]\n",
    "# for ip in inputs:\n",
    "#     ct, ht = LSTMCELL(ct, ht, ip)\n",
    "#     print(ct, ht)"
   ]
  },
  {
   "cell_type": "markdown",
   "metadata": {},
   "source": [
    "## *calculation"
   ]
  },
  {
   "cell_type": "code",
   "execution_count": 1,
   "metadata": {},
   "outputs": [],
   "source": [
    "import math\n",
    "\n",
    "t = 1e-4\n",
    "total_time = 1e6\n",
    "word_time = 700"
   ]
  },
  {
   "cell_type": "code",
   "execution_count": 2,
   "metadata": {},
   "outputs": [
    {
     "data": {
      "text/plain": [
       "0.6220355269907727"
      ]
     },
     "execution_count": 2,
     "metadata": {},
     "output_type": "execute_result"
    }
   ],
   "source": [
    "seq = word_time / total_time\n",
    "prob = 1-math.sqrt(t/seq)\n",
    "\n",
    "prob"
   ]
  }
 ],
 "metadata": {
  "kernelspec": {
   "display_name": "Python 3",
   "language": "python",
   "name": "python3"
  },
  "language_info": {
   "codemirror_mode": {
    "name": "ipython",
    "version": 3
   },
   "file_extension": ".py",
   "mimetype": "text/x-python",
   "name": "python",
   "nbconvert_exporter": "python",
   "pygments_lexer": "ipython3",
   "version": "3.6.8"
  },
  "toc": {
   "base_numbering": 1,
   "nav_menu": {},
   "number_sections": true,
   "sideBar": true,
   "skip_h1_title": false,
   "title_cell": "Table of Contents",
   "title_sidebar": "Contents",
   "toc_cell": false,
   "toc_position": {},
   "toc_section_display": true,
   "toc_window_display": true
  }
 },
 "nbformat": 4,
 "nbformat_minor": 2
}
