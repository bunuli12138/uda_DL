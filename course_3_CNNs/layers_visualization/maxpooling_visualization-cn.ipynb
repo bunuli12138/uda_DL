{
 "cells": [
  {
   "cell_type": "markdown",
   "metadata": {},
   "source": [
    "﻿# 最大池化层\n",
    "\n",
    "在此 notebook 中，我们将在 CNN 里添加最大池化层并可视化它的输出结果。 \n",
    "\n",
    "该 CNN 由一个卷积层+激活函数，然后是一个池化层和线性层（以形成期望的输出大小）组成。\n",
    "\n",
    "<img src='notebook_ims/CNN_all_layers.png' height=50% width=50% />\n",
    "\n",
    "### 导入图像"
   ]
  },
  {
   "cell_type": "code",
   "execution_count": null,
   "metadata": {},
   "outputs": [],
   "source": [
    "import cv2\n",
    "import matplotlib.pyplot as plt\n",
    "%matplotlib inline\n",
    "\n",
    "# TODO: Feel free to try out your own images here by changing img_path\n",
    "# to a file path to another image on your computer!\n",
    "img_path = 'data/udacity_sdc.png'\n",
    "\n",
    "# load color image \n",
    "bgr_img = cv2.imread(img_path)\n",
    "# convert to grayscale\n",
    "gray_img = cv2.cvtColor(bgr_img, cv2.COLOR_BGR2GRAY)\n",
    "\n",
    "# normalize, rescale entries to lie in [0,1]\n",
    "gray_img = gray_img.astype(\"float32\")/255\n",
    "\n",
    "# plot image\n",
    "plt.imshow(gray_img, cmap='gray')\n",
    "plt.show()"
   ]
  },
  {
   "cell_type": "markdown",
   "metadata": {},
   "source": [
    "### 定义和可视化过滤器"
   ]
  },
  {
   "cell_type": "code",
   "execution_count": null,
   "metadata": {},
   "outputs": [],
   "source": [
    "import numpy as np\n",
    "\n",
    "## TODO: Feel free to modify the numbers here, to try out another filter!\n",
    "filter_vals = np.array([[-1, -1, 1, 1], [-1, -1, 1, 1], [-1, -1, 1, 1], [-1, -1, 1, 1]])\n",
    "\n",
    "print('Filter shape: ', filter_vals.shape)\n"
   ]
  },
  {
   "cell_type": "code",
   "execution_count": null,
   "metadata": {},
   "outputs": [],
   "source": [
    "# Defining four different filters, \n",
    "# all of which are linear combinations of the `filter_vals` defined above\n",
    "\n",
    "# define four filters\n",
    "filter_1 = filter_vals\n",
    "filter_2 = -filter_1\n",
    "filter_3 = filter_1.T\n",
    "filter_4 = -filter_3\n",
    "filters = np.array([filter_1, filter_2, filter_3, filter_4])\n",
    "\n",
    "# For an example, print out the values of filter 1\n",
    "print('Filter 1: \\n', filter_1)"
   ]
  },
  {
   "cell_type": "markdown",
   "metadata": {},
   "source": [
    "### 定义卷积层和池化层\n",
    "\n",
    "你已经知道如何定义卷积层，接下来是：\n",
    "* 池化层\n",
    "\n",
    "在下个单元格中，我们将初始化卷积层，使其包含所有已创建的过滤器。然后添加最大池化层（请参阅[此文档](http://pytorch.org/docs/stable/_modules/torch/nn/modules/pooling.html），卷积核大小是 2x2，所以在这一步之后，图像分辨率变小了！\n",
    "\n",
    "最大池化层会减小输入的 x-y 大小，并仅保留最活跃的像素值。下面是一个示例 2x2 池化核，步长为 2，应用到了一小批灰阶像素值，使这批数据的大小缩小到 1/4。只有 2x2 中的最大像素值保留在新的池化输出中。\n",
    "\n",
    "<img src='notebook_ims/maxpooling_ex.png' height=50% width=50% />"
   ]
  },
  {
   "cell_type": "code",
   "execution_count": null,
   "metadata": {},
   "outputs": [],
   "source": [
    "import torch\n",
    "import torch.nn as nn\n",
    "import torch.nn.functional as F\n",
    "    \n",
    "# define a neural network with a convolutional layer with four filters\n",
    "# AND a pooling layer of size (2, 2)\n",
    "class Net(nn.Module):\n",
    "    \n",
    "    def __init__(self, weight):\n",
    "        super(Net, self).__init__()\n",
    "        # initializes the weights of the convolutional layer to be the weights of the 4 defined filters\n",
    "        k_height, k_width = weight.shape[2:]\n",
    "        # defines the convolutional layer, assumes there are 4 grayscale filters\n",
    "        # torch.nn.Conv2d(in_channels, out_channels, kernel_size, stride=1, padding=0, dilation=1, groups=1, bias=True)\n",
    "        self.conv = nn.Conv2d(1, 4, kernel_size=(k_height, k_width), bias=False)\n",
    "        self.conv.weight = torch.nn.Parameter(weight)\n",
    "        # define a pooling layer\n",
    "        self.pool = nn.MaxPool2d(2, 2)\n",
    "\n",
    "    def forward(self, x):\n",
    "        # calculates the output of a convolutional layer\n",
    "        # pre- and post-activation\n",
    "        conv_x = self.conv(x)\n",
    "        activated_x = F.relu(conv_x)\n",
    "        \n",
    "        # applies pooling layer\n",
    "        pooled_x = self.pool(activated_x)\n",
    "        \n",
    "        # returns all layers\n",
    "        return conv_x, activated_x, pooled_x\n",
    "    \n",
    "# instantiate the model and set the weights\n",
    "weight = torch.from_numpy(filters).unsqueeze(1).type(torch.FloatTensor)\n",
    "model = Net(weight)\n",
    "\n",
    "# print out the layer in the network\n",
    "print(model)"
   ]
  },
  {
   "cell_type": "markdown",
   "metadata": {},
   "source": [
    "### 可视化每个过滤器的输出\n",
    "\n",
    "首先，我们将定义一个辅助函数 `viz_layer`，它接受特定的层级和过滤器数量（可选参数），并在图像穿过之后，显示该层级的输出。"
   ]
  },
  {
   "cell_type": "code",
   "execution_count": null,
   "metadata": {},
   "outputs": [],
   "source": [
    "# helper function for visualizing the output of a given layer\n",
    "# default number of filters is 4\n",
    "def viz_layer(layer, n_filters= 4):\n",
    "    fig = plt.figure(figsize=(20, 20))\n",
    "    \n",
    "    for i in range(n_filters):\n",
    "        ax = fig.add_subplot(1, n_filters, i+1)\n",
    "        # grab layer outputs\n",
    "        ax.imshow(np.squeeze(layer[0,i].data.numpy()), cmap='gray')\n",
    "        ax.set_title('Output %s' % str(i+1))"
   ]
  },
  {
   "cell_type": "markdown",
   "metadata": {},
   "source": [
    "我们看看在应用 ReLu 激活函数之前和之后卷积层的输出。\n",
    "\n",
    "#### ReLU 激活\n",
    "\n",
    "ReLU 函数将所有负像素值变成 0（黑色）。对于输入像素值 `x`，请查看下图中的方程。 \n",
    "\n",
    "<img src='notebook_ims/relu_ex.png' height=50% width=50% />"
   ]
  },
  {
   "cell_type": "code",
   "execution_count": null,
   "metadata": {},
   "outputs": [],
   "source": [
    "# plot original image\n",
    "plt.imshow(gray_img, cmap='gray')\n",
    "\n",
    "# visualize all filters\n",
    "fig = plt.figure(figsize=(12, 6))\n",
    "fig.subplots_adjust(left=0, right=1.5, bottom=0.8, top=1, hspace=0.05, wspace=0.05)\n",
    "for i in range(4):\n",
    "    ax = fig.add_subplot(1, 4, i+1, xticks=[], yticks=[])\n",
    "    ax.imshow(filters[i], cmap='gray')\n",
    "    ax.set_title('Filter %s' % str(i+1))\n",
    "\n",
    "    \n",
    "# convert the image into an input Tensor\n",
    "gray_img_tensor = torch.from_numpy(gray_img).unsqueeze(0).unsqueeze(1)\n",
    "\n",
    "# get all the layers \n",
    "conv_layer, activated_layer, pooled_layer = model(gray_img_tensor)\n",
    "\n",
    "# visualize the output of the activated conv layer\n",
    "viz_layer(activated_layer)"
   ]
  },
  {
   "cell_type": "markdown",
   "metadata": {},
   "source": [
    "### 可视化池化层的输出\n",
    "\n",
    "然后，查看池化层的输出。池化层将上图中的特征图当做输入，并以特定的池化系数降低这些特征图的维度，仅用给定核区域的最大值（最亮像素）构建新的更小图像。\n",
    "\n",
    "请查看 x,y 轴上的值，看看图像的大小变化了多少。\n",
    "\n",
    "\n",
    "\n",
    "\n",
    "```python\n",
    "# visualize the output of the pooling layer\n",
    "viz_layer(pooled_layer)\n",
    "```"
   ]
  }
 ],
 "metadata": {},
 "nbformat": 4,
 "nbformat_minor": 2
}
